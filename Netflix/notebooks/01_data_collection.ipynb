{
  "cells": [
    {
      "cell_type": "markdown",
      "metadata": {
        "vscode": {
          "languageId": "raw"
        }
      },
      "source": [
        "# Netflix Data Collection\n",
        "\n",
        "This notebook handles the initial data collection phase of the Netflix analysis pipeline:\n",
        "\n",
        "1. Load netflix1.csv into a staging PostgreSQL table\n",
        "2. Profile row counts, nulls, duplicates\n",
        "3. Export raw CSV to data/raw/netflix_raw.csv\n",
        "\n",
        "## Prerequisites\n",
        "- PostgreSQL database running\n",
        "- Database credentials configured in src/utils.py\n"
      ]
    },
    {
      "cell_type": "code",
      "execution_count": 1,
      "metadata": {},
      "outputs": [
        {
          "name": "stdout",
          "output_type": "stream",
          "text": [
            "Libraries imported successfully!\n"
          ]
        }
      ],
      "source": [
        "# Import required libraries\n",
        "import pandas as pd\n",
        "import numpy as np\n",
        "import sys\n",
        "import os\n",
        "\n",
        "# Add src directory to path for imports\n",
        "sys.path.append('../src')\n",
        "\n",
        "from utils import connect_db, get_engine, print_data_summary\n",
        "\n",
        "# Enable autoreload for development\n",
        "%load_ext autoreload\n",
        "%autoreload 2\n",
        "\n",
        "print(\"Libraries imported successfully!\")\n"
      ]
    },
    {
      "cell_type": "markdown",
      "metadata": {
        "vscode": {
          "languageId": "raw"
        }
      },
      "source": [
        "## 1. Load Raw Netflix Data\n"
      ]
    },
    {
      "cell_type": "code",
      "execution_count": 2,
      "metadata": {},
      "outputs": [
        {
          "name": "stdout",
          "output_type": "stream",
          "text": [
            "Loading data from: ../data/raw/netflix1.csv\n",
            "\n",
            "Data loaded successfully!\n",
            "Dataset shape: (8790, 10)\n",
            "\n",
            "Column names:\n",
            " 1. show_id\n",
            " 2. type\n",
            " 3. title\n",
            " 4. director\n",
            " 5. country\n",
            " 6. date_added\n",
            " 7. release_year\n",
            " 8. rating\n",
            " 9. duration\n",
            "10. listed_in\n"
          ]
        }
      ],
      "source": [
        "# Load the raw Netflix dataset\n",
        "raw_data_path = '../data/raw/netflix1.csv'\n",
        "\n",
        "print(f\"Loading data from: {raw_data_path}\")\n",
        "df_raw = pd.read_csv(raw_data_path)\n",
        "\n",
        "print(f\"\\nData loaded successfully!\")\n",
        "print(f\"Dataset shape: {df_raw.shape}\")\n",
        "print(f\"\\nColumn names:\")\n",
        "for i, col in enumerate(df_raw.columns, 1):\n",
        "    print(f\"{i:2d}. {col}\")\n"
      ]
    },
    {
      "cell_type": "markdown",
      "metadata": {
        "vscode": {
          "languageId": "raw"
        }
      },
      "source": [
        "## 2. Initial Data Profiling\n"
      ]
    },
    {
      "cell_type": "code",
      "execution_count": 3,
      "metadata": {},
      "outputs": [
        {
          "name": "stdout",
          "output_type": "stream",
          "text": [
            "\n",
            "==================================================\n",
            "Raw Netflix Dataset Profile\n",
            "==================================================\n",
            "Shape: (8790, 10)\n",
            "Memory usage: 4.66 MB\n",
            "\n",
            "Data types:\n",
            "object    9\n",
            "int64     1\n",
            "Name: count, dtype: int64\n",
            "\n",
            "Missing values:\n",
            "Empty DataFrame\n",
            "Columns: [Missing Count, Percentage]\n",
            "Index: []\n",
            "\n",
            "==================================================\n"
          ]
        }
      ],
      "source": [
        "# Generate comprehensive data summary\n",
        "print_data_summary(df_raw, \"Raw Netflix Dataset Profile\")\n"
      ]
    },
    {
      "cell_type": "code",
      "execution_count": 5,
      "metadata": {},
      "outputs": [
        {
          "name": "stdout",
          "output_type": "stream",
          "text": [
            "Exporting raw data to: ../data/raw/netflix_raw.csv\n",
            " Raw data exported successfully!\n",
            "   File size: 1.02 MB\n",
            "   Verification: 8,790 rows loaded from exported file\n",
            "   Match with original:  Yes\n"
          ]
        }
      ],
      "source": [
        "# Export to standardized raw data file\n",
        "output_path = '../data/raw/netflix_raw.csv'\n",
        "print(f\"Exporting raw data to: {output_path}\")\n",
        "\n",
        "df_raw.to_csv(output_path, index=False)\n",
        "print(f\" Raw data exported successfully!\")\n",
        "\n",
        "# Verify export\n",
        "if os.path.exists(output_path):\n",
        "    file_size = os.path.getsize(output_path) / (1024 * 1024)  # MB\n",
        "    print(f\"   File size: {file_size:.2f} MB\")\n",
        "    \n",
        "    # Quick verification load\n",
        "    df_verify = pd.read_csv(output_path)\n",
        "    print(f\"   Verification: {len(df_verify):,} rows loaded from exported file\")\n",
        "    print(f\"   Match with original: {' Yes' if len(df_verify) == len(df_raw) else ' No'}\")\n"
      ]
    },
    {
      "cell_type": "markdown",
      "metadata": {},
      "source": [
        "---"
      ]
    }
  ],
  "metadata": {
    "kernelspec": {
      "display_name": ".venv",
      "language": "python",
      "name": "python3"
    },
    "language_info": {
      "codemirror_mode": {
        "name": "ipython",
        "version": 3
      },
      "file_extension": ".py",
      "mimetype": "text/x-python",
      "name": "python",
      "nbconvert_exporter": "python",
      "pygments_lexer": "ipython3",
      "version": "3.12.10"
    }
  },
  "nbformat": 4,
  "nbformat_minor": 2
}
